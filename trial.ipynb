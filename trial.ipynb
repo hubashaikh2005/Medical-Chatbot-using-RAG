{
 "cells": [
  {
   "cell_type": "code",
   "execution_count": null,
   "id": "d4fe67de",
   "metadata": {},
   "outputs": [],
   "source": [
    "from langchain_community.document_loaders import PyPDFLoader\n",
    "from langchain.text_splitter import RecursiveCharacterTextSplitter"
   ]
  },
  {
   "cell_type": "code",
   "execution_count": null,
   "id": "4dbcfed4",
   "metadata": {},
   "outputs": [],
   "source": [
    "loader = PyPDFLoader('data/Medical_book.pdf')"
   ]
  },
  {
   "cell_type": "code",
   "execution_count": null,
   "id": "068ce550",
   "metadata": {},
   "outputs": [],
   "source": [
    "documents = loader.load()"
   ]
  },
  {
   "cell_type": "code",
   "execution_count": null,
   "id": "a7a77d0d",
   "metadata": {},
   "outputs": [],
   "source": [
    "len(documents)"
   ]
  },
  {
   "cell_type": "code",
   "execution_count": null,
   "id": "c7c4c4f4",
   "metadata": {},
   "outputs": [],
   "source": [
    "from langchain.schema import Document\n",
    "clean_docs = [Document(page_content=doc.page_content) for doc in documents if doc.page_content.strip() != \"\"]\n",
    "clean_docs[4]"
   ]
  },
  {
   "cell_type": "code",
   "execution_count": null,
   "id": "6c62529d",
   "metadata": {},
   "outputs": [],
   "source": [
    "split = RecursiveCharacterTextSplitter(chunk_size=800, chunk_overlap=100)\n",
    "docs = split.split_documents(clean_docs)"
   ]
  },
  {
   "cell_type": "code",
   "execution_count": null,
   "id": "ca605c89",
   "metadata": {},
   "outputs": [],
   "source": [
    "len(docs)"
   ]
  },
  {
   "cell_type": "code",
   "execution_count": null,
   "id": "520bf28d",
   "metadata": {},
   "outputs": [],
   "source": [
    "from sentence_transformers import SentenceTransformer \n",
    "from langchain.embeddings import HuggingFaceEmbeddings\n",
    "embeddings_model = HuggingFaceEmbeddings(model_name='sentence-transformers/all-MiniLM-L6-v2')\n",
    "embeddings = embeddings_model.embed_documents([doc.page_content for doc in docs])"
   ]
  },
  {
   "cell_type": "code",
   "execution_count": null,
   "id": "f93f32e9",
   "metadata": {},
   "outputs": [],
   "source": [
    "len(embeddings)"
   ]
  },
  {
   "cell_type": "code",
   "execution_count": null,
   "id": "3ba1f2c9",
   "metadata": {},
   "outputs": [],
   "source": [
    "from dotenv import load_dotenv\n",
    "import os\n",
    "load_dotenv()"
   ]
  },
  {
   "cell_type": "code",
   "execution_count": null,
   "id": "eebbfdd9",
   "metadata": {},
   "outputs": [],
   "source": [
    "PINECONE_API_KEY = os.getenv('PINECONE_API_KEY')\n",
    "os.environ['PINECONE_API_KEY'] = PINECONE_API_KEY"
   ]
  },
  {
   "cell_type": "code",
   "execution_count": null,
   "id": "8e295713",
   "metadata": {},
   "outputs": [],
   "source": [
    "from pinecone import Pinecone\n",
    "\n",
    "pinecone_api_key = PINECONE_API_KEY\n",
    "pc = Pinecone(api_key=pinecone_api_key)"
   ]
  },
  {
   "cell_type": "code",
   "execution_count": null,
   "id": "9a0fcf06",
   "metadata": {},
   "outputs": [],
   "source": [
    "pc"
   ]
  },
  {
   "cell_type": "code",
   "execution_count": null,
   "id": "802a8536",
   "metadata": {},
   "outputs": [],
   "source": [
    "from pinecone import ServerlessSpec\n",
    "index_name = \"medical-chatbot\"\n",
    "\n",
    "if not pc.has_index(index_name):\n",
    "    pc.create_index(\n",
    "        name=index_name,\n",
    "        dimension=384,\n",
    "        metric=\"cosine\",\n",
    "        spec=ServerlessSpec(cloud=\"aws\",region=\"us-east-1\")\n",
    "    )\n",
    "\n",
    "index = pc.Index(index_name)"
   ]
  },
  {
   "cell_type": "code",
   "execution_count": null,
   "id": "5c85da9d",
   "metadata": {},
   "outputs": [],
   "source": [
    "desc = pc.describe_index(\"medical-chatbot\")\n",
    "print(desc)"
   ]
  },
  {
   "cell_type": "code",
   "execution_count": null,
   "id": "a1c7245a",
   "metadata": {},
   "outputs": [],
   "source": [
    "from langchain_pinecone import PineconeVectorStore\n",
    "vector_store = PineconeVectorStore.from_documents(documents=docs, embedding=embeddings_model,index_name=index_name)"
   ]
  },
  {
   "cell_type": "code",
   "execution_count": null,
   "id": "bca33244",
   "metadata": {},
   "outputs": [],
   "source": [
    "#pc.delete_index(index_name)"
   ]
  },
  {
   "cell_type": "code",
   "execution_count": null,
   "id": "68af6d52",
   "metadata": {},
   "outputs": [],
   "source": [
    "retriever = vector_store.as_retriever(search_type=\"similarity\",search_kwargs={\"k\":5})\n"
   ]
  },
  {
   "cell_type": "code",
   "execution_count": null,
   "id": "a6aefff4",
   "metadata": {},
   "outputs": [],
   "source": [
    "retrieved_docs = retriever.invoke('What are the symptoms of diabetes?')\n",
    "retrieved_docs"
   ]
  },
  {
   "cell_type": "code",
   "execution_count": null,
   "id": "332dda88",
   "metadata": {},
   "outputs": [],
   "source": [
    "from langchain_google_genai import ChatGoogleGenerativeAI\n",
    "from dotenv import load_dotenv\n",
    "import os \n",
    "load_dotenv()\n",
    "api_key = os.getenv('GOOGLE_GENAI_API_KEY')\n",
    "chatModel = ChatGoogleGenerativeAI(model=\"gemini-2.5-flash\",temperature=0.3, api_key=api_key)"
   ]
  },
  {
   "cell_type": "code",
   "execution_count": null,
   "id": "5f90911f",
   "metadata": {},
   "outputs": [],
   "source": [
    "from langchain.chains import create_retrieval_chain\n",
    "from langchain_core.prompts import ChatPromptTemplate\n",
    "from langchain.chains.combine_documents import create_stuff_documents_chain"
   ]
  },
  {
   "cell_type": "code",
   "execution_count": null,
   "id": "32bf0920",
   "metadata": {},
   "outputs": [],
   "source": [
    "system_prompt = \"\"\"You are Medibot, an AI medical assistant.\n",
    "Your job is to answer user queries based strictly on the provided context documents.\n",
    "If the context does not contain the answer, say:\n",
    "\"I could not find that information in the documents. Please consult a licensed medical professional for accurate advice.\"\n",
    "\n",
    "Guidelines:\n",
    "- Use clear, professional, and empathetic language.\n",
    "- Do NOT make up facts beyond the provided context.\n",
    "- If a question sounds like a medical emergency, politely remind the user to seek immediate professional help.\n",
    "- Keep responses informative and easy to understand for a general audience.\n",
    "- Don't mentions the document \n",
    "After providing an answer from the documents:\n",
    "- You may ask if the user wants more details about symptoms, causes, or prevention. \n",
    "- Do NOT provide medical advice or prescriptions beyond the documents.\n",
    "\n",
    "Context:\n",
    "{context}\n",
    "\"\"\"\n",
    "\n",
    "template = ChatPromptTemplate(\n",
    "    [\n",
    "        (\"system\", system_prompt),\n",
    "        (\"human\", \"{input}\")\n",
    "    ]\n",
    ")"
   ]
  },
  {
   "cell_type": "code",
   "execution_count": null,
   "id": "d528ffc7",
   "metadata": {},
   "outputs": [],
   "source": [
    "qa_chain = create_stuff_documents_chain(chatModel, template)\n",
    "final_chain = create_retrieval_chain(retriever,qa_chain)"
   ]
  },
  {
   "cell_type": "code",
   "execution_count": null,
   "id": "babf0181",
   "metadata": {},
   "outputs": [],
   "source": [
    "response = final_chain.invoke({\"input\":'What are the symptoms of diabetes?'})\n",
    "print(response['answer'])"
   ]
  },
  {
   "cell_type": "code",
   "execution_count": null,
   "id": "76f83988",
   "metadata": {},
   "outputs": [],
   "source": [
    "from langchain.chains import ConversationalRetrievalChain\n",
    "from langchain.memory import ConversationSummaryMemory\n",
    "\n",
    "memory = ConversationSummaryMemory(\n",
    "    llm=chatModel,\n",
    "    memory_key=\"chat_history\",\n",
    "    buffer_size=3,\n",
    "    return_messages=True\n",
    ")\n",
    "\n",
    "conv_chain = ConversationalRetrievalChain.from_llm(\n",
    "    llm=chatModel,\n",
    "    retriever=retriever,\n",
    "    memory=memory,\n",
    "    return_source_documents=False\n",
    ")"
   ]
  },
  {
   "cell_type": "code",
   "execution_count": null,
   "id": "d59326ca",
   "metadata": {},
   "outputs": [],
   "source": [
    "response1 = conv_chain({\"question\": \"What is Diabetes?\"})\n",
    "print(response1[\"answer\"])\n",
    "\n",
    "response2 = conv_chain({\"question\": \"What are the symptoms?\"})\n",
    "print(response2[\"answer\"])\n",
    "\n",
    "response3 = conv_chain({\"question\": \"How is it treated?\"})\n",
    "print(response3[\"answer\"])"
   ]
  },
  {
   "cell_type": "code",
   "execution_count": null,
   "id": "44b7fc2c",
   "metadata": {},
   "outputs": [],
   "source": []
  }
 ],
 "metadata": {
  "kernelspec": {
   "display_name": "medi-bot",
   "language": "python",
   "name": "python3"
  },
  "language_info": {
   "codemirror_mode": {
    "name": "ipython",
    "version": 3
   },
   "file_extension": ".py",
   "mimetype": "text/x-python",
   "name": "python",
   "nbconvert_exporter": "python",
   "pygments_lexer": "ipython3",
   "version": "3.11.0"
  }
 },
 "nbformat": 4,
 "nbformat_minor": 5
}
